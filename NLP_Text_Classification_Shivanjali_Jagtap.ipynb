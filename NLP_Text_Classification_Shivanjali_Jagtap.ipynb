{
  "nbformat": 4,
  "nbformat_minor": 0,
  "metadata": {
    "colab": {
      "provenance": []
    },
    "kernelspec": {
      "name": "python3",
      "display_name": "Python 3"
    },
    "language_info": {
      "name": "python"
    }
  },
  "cells": [
    {
      "cell_type": "markdown",
      "source": [
        "# Google Colab Lab Assignment -NLP\n",
        "\n",
        "**Course Name:** Deep Learning\n",
        "\n",
        "**Lab Title:** NLP Techniques for Text Classification\n",
        "\n",
        "**Student Name:**Shivanjali Jagtap\n",
        "\n",
        "**Student ID:**202201040070\n",
        "\n",
        "**Date of Submission:** 17/04/2025\n",
        "\n",
        "**Group Members**: Sachin Jadhav , Khushi Narad\n",
        "\n",
        "\n",
        "**Objective**\n",
        "The objective of this assignment is to implement NLP preprocessing techniques and build a text classification model using machine learning techniques.\n",
        "\n",
        "\n"
      ],
      "metadata": {
        "id": "qfwaeuSgcupl"
      }
    },
    {
      "cell_type": "markdown",
      "source": [
        "**Learning Outcomes:**\n",
        "\n",
        "1. Understand and apply NLP preprocessing techniques such as tokenization, stopword removal, stemming, and lemmatization.\n",
        "\n",
        "2. Implement text vectorization techniques such as TF-IDF and CountVectorizer.\n",
        "\n",
        "3. Develop a text classification model using a machine learning algorithm.\n",
        "\n",
        "4. Evaluate the performance of the model using suitable metrics."
      ],
      "metadata": {
        "id": "nN1DLv3exqNw"
      }
    },
    {
      "cell_type": "markdown",
      "source": [
        "# **Assignment Instructions:**"
      ],
      "metadata": {
        "id": "jvYJRtGTI32Y"
      }
    },
    {
      "cell_type": "markdown",
      "source": [
        "**Part 1: NLP Preprocessing**\n",
        "\n",
        "**Dataset Selection:**\n",
        "\n",
        "Choose any text dataset from **Best Datasets for Text** https://en.innovatiana.com/post/best-datasets-for-text-classification Classification, such as SMS Spam Collection, IMDb Reviews, or any other relevant dataset.\n",
        "\n",
        "Download the dataset and upload it to Google Colab.\n",
        "\n",
        "Load the dataset into a Pandas DataFrame and explore its structure (e.g., check missing values, data types, and label distribution).\n",
        "\n",
        "Text Preprocessing:\n",
        "\n",
        "Convert text to lowercase.\n",
        "\n",
        "Perform tokenization using NLTK or spaCy.\n",
        "\n",
        "Remove stopwords using NLTK or spaCy.\n",
        "\n",
        "Apply stemming using PorterStemmer or SnowballStemmer.\n",
        "\n",
        "Apply lemmatization using WordNetLemmatizer.\n",
        "\n",
        "Vectorization Techniques:\n",
        "\n",
        "Convert text data into numerical format using TF-IDF and CountVectorizer.\n",
        "\n"
      ],
      "metadata": {
        "id": "hPA-RFjFc3hF"
      }
    },
    {
      "cell_type": "code",
      "source": [
        "# Imports\n",
        "import pandas as pd\n",
        "import nltk\n",
        "from nltk.corpus import stopwords\n",
        "from nltk.stem import PorterStemmer, WordNetLemmatizer\n",
        "from nltk.tokenize import word_tokenize\n",
        "from sklearn.feature_extraction.text import CountVectorizer, TfidfVectorizer\n",
        "from sklearn.model_selection import train_test_split\n",
        "from sklearn.linear_model import LogisticRegression\n",
        "from sklearn.naive_bayes import MultinomialNB\n",
        "from sklearn.metrics import classification_report, confusion_matrix, accuracy_score\n",
        "import seaborn as sns\n",
        "import matplotlib.pyplot as plt\n",
        "\n",
        "# Download necessary NLTK data\n",
        "nltk.download('punkt')\n",
        "nltk.download('stopwords')\n",
        "nltk.download('wordnet')\n",
        "nltk.download('punkt_tab') # Download the punkt_tab data package\n",
        "\n",
        "# Load CSV file\n",
        "df = pd.read_csv('/content/spam.csv', encoding='latin-1', usecols=[0, 1], names=['label', 'message'], skiprows=1)\n",
        "print(df.head())\n",
        "\n",
        "# Drop any missing values\n",
        "df.dropna(inplace=True)\n",
        "\n",
        "# Text Preprocessing\n",
        "# 1. Lowercase\n",
        "df['message'] = df['message'].str.lower()\n",
        "\n",
        "# 2. Tokenization\n",
        "df['tokens'] = df['message'].apply(word_tokenize)\n",
        "\n",
        "# 3. Remove stopwords and non-alpha tokens\n",
        "stop_words = set(stopwords.words('english'))\n",
        "df['filtered'] = df['tokens'].apply(lambda x: [word for word in x if word.isalpha() and word not in stop_words])\n",
        "\n",
        "# 4. Lemmatization\n",
        "lemmatizer = WordNetLemmatizer()\n",
        "df['lemmatized'] = df['filtered'].apply(lambda x: [lemmatizer.lemmatize(word) for word in x])\n",
        "\n",
        "# 5. Join lemmatized tokens to form clean text\n",
        "df['clean_text'] = df['lemmatized'].apply(lambda x: ' '.join(x))\n",
        "df = df[df['clean_text'].str.strip() != '']  # Remove empty rows\n",
        "\n",
        "print(\"\\nSample clean text:\\n\", df['clean_text'].sample(5, random_state=42).tolist())\n",
        "\n",
        "# Vectorization using TF-IDF\n",
        "tfidf_vectorizer = TfidfVectorizer()  # Initialize TfidfVectorizer\n",
        "X_tfidf = tfidf_vectorizer.fit_transform(df['clean_text'])  # Use 'clean_text' column for TF-IDF\n",
        "\n",
        "X = X_tfidf\n",
        "y = df['label']"
      ],
      "metadata": {
        "colab": {
          "base_uri": "https://localhost:8080/"
        },
        "id": "oRB35wqlqIrD",
        "outputId": "271cd8c0-841e-4206-c359-91c2e88e5230"
      },
      "execution_count": 2,
      "outputs": [
        {
          "output_type": "stream",
          "name": "stderr",
          "text": [
            "[nltk_data] Downloading package punkt to /root/nltk_data...\n",
            "[nltk_data]   Unzipping tokenizers/punkt.zip.\n",
            "[nltk_data] Downloading package stopwords to /root/nltk_data...\n",
            "[nltk_data]   Unzipping corpora/stopwords.zip.\n",
            "[nltk_data] Downloading package wordnet to /root/nltk_data...\n",
            "[nltk_data] Downloading package punkt_tab to /root/nltk_data...\n",
            "[nltk_data]   Unzipping tokenizers/punkt_tab.zip.\n"
          ]
        },
        {
          "output_type": "stream",
          "name": "stdout",
          "text": [
            "  label                                            message\n",
            "0   ham  Go until jurong point, crazy.. Available only ...\n",
            "1   ham                      Ok lar... Joking wif u oni...\n",
            "2  spam  Free entry in 2 a wkly comp to win FA Cup fina...\n",
            "3   ham  U dun say so early hor... U c already then say...\n",
            "4   ham  Nah I don't think he goes to usf, he lives aro...\n",
            "\n",
            "Sample clean text:\n",
            " ['gorgeous keep pix cumming thank', 'ahhhh woken bad dream u tho dont like u right didnt know anything comedy night guess im', 'sorry ca help', 'get gandhipuram walk cross cut road right side lt gt street road turn first right', 'thing change sentence want concentrate educational career im leaving']\n"
          ]
        }
      ]
    },
    {
      "cell_type": "markdown",
      "source": [
        "**Splitting the Data:**\n",
        "\n",
        "Divide the dataset into training and testing sets (e.g., 80% training, 20% testing).\n",
        "\n",
        "**Building the Classification Model:**\n",
        "\n",
        "Train a text classification model using Logistic Regression, Naïve Bayes, or any other suitable algorithm.\n",
        "\n",
        "Implement the model using scikit-learn.\n",
        "\n",
        "**Model Evaluation:**\n",
        "\n",
        "Evaluate the model using accuracy, precision, recall, and F1-score.\n",
        "\n",
        "Use a confusion matrix to visualize the results."
      ],
      "metadata": {
        "id": "CuEXacYmc8lm"
      }
    },
    {
      "cell_type": "code",
      "source": [
        "import matplotlib.pyplot as plt\n",
        "import seaborn as sns\n",
        "from sklearn.model_selection import train_test_split\n",
        "from sklearn.naive_bayes import MultinomialNB\n",
        "from sklearn.metrics import accuracy_score, classification_report, confusion_matrix\n",
        "\n",
        "# 1. Split the dataset into training and testing sets\n",
        "X_train, X_test, y_train, y_test = train_test_split(\n",
        "    X, y, test_size=0.2, random_state=42, stratify=y\n",
        ")\n",
        "\n",
        "# 2. Train the Naive Bayes model\n",
        "nb_model = MultinomialNB()\n",
        "nb_model.fit(X_train, y_train)\n",
        "y_pred_nb = nb_model.predict(X_test)\n",
        "\n",
        "# 3. Evaluation Function\n",
        "def evaluate_model(name, y_test, y_pred):\n",
        "    print(f\"\\n=== {name} ===\")\n",
        "    print(\"Accuracy:\", accuracy_score(y_test, y_pred))\n",
        "    print(\"Classification Report:\\n\", classification_report(y_test, y_pred))\n",
        "\n",
        "    # Confusion Matrix\n",
        "    cm = confusion_matrix(y_test, y_pred, labels=['spam', 'ham'])\n",
        "    sns.heatmap(cm, annot=True, fmt='d', xticklabels=['Spam', 'Ham'], yticklabels=['Spam', 'Ham'], cmap='Blues')\n",
        "    plt.title(f'{name} - Confusion Matrix')\n",
        "    plt.xlabel('Predicted')\n",
        "    plt.ylabel('Actual')\n",
        "    plt.show()\n",
        "\n",
        "# 4. Run Evaluation for Naive Bayes\n",
        "evaluate_model(\"Naive Bayes\", y_test, y_pred_nb)\n"
      ],
      "metadata": {
        "id": "-b2Z6SaydAfQ",
        "colab": {
          "base_uri": "https://localhost:8080/",
          "height": 698
        },
        "outputId": "973b3b0e-b49a-4fcb-8196-2a378392e882"
      },
      "execution_count": 3,
      "outputs": [
        {
          "output_type": "stream",
          "name": "stdout",
          "text": [
            "\n",
            "=== Naive Bayes ===\n",
            "Accuracy: 0.9676258992805755\n",
            "Classification Report:\n",
            "               precision    recall  f1-score   support\n",
            "\n",
            "         ham       0.96      1.00      0.98       963\n",
            "        spam       0.99      0.77      0.86       149\n",
            "\n",
            "    accuracy                           0.97      1112\n",
            "   macro avg       0.98      0.88      0.92      1112\n",
            "weighted avg       0.97      0.97      0.97      1112\n",
            "\n"
          ]
        },
        {
          "output_type": "display_data",
          "data": {
            "text/plain": [
              "<Figure size 640x480 with 2 Axes>"
            ],
            "image/png": "[encoded data removed]"
          },
          "metadata": {}
        }
      ]
    },
    {
      "cell_type": "code",
      "source": [
        "# Example message for prediction\n",
        "new_message = [\"Free entry in 2 a wkly comp to win FA Cup final tickets. Text FA to 87121 to receive entry.\"]\n",
        "\n",
        "# Apply the same preprocessing steps (tokenization, stopwords removal, lemmatization) to the new message\n",
        "\n",
        "# Tokenization\n",
        "new_message_tokens = word_tokenize(new_message[0].lower())\n",
        "\n",
        "# Remove stopwords and non-alphabetic words\n",
        "stop_words = set(stopwords.words('english'))\n",
        "new_message_filtered = [word for word in new_message_tokens if word.isalpha() and word not in stop_words]\n",
        "\n",
        "# Lemmatization\n",
        "lemmatizer = WordNetLemmatizer()\n",
        "new_message_lemmatized = [lemmatizer.lemmatize(word) for word in new_message_filtered]\n",
        "\n",
        "# Join lemmatized tokens to form clean text\n",
        "new_message_cleaned = ' '.join(new_message_lemmatized)\n",
        "\n",
        "# Transform the new message using the same vectorizer\n",
        "new_message_tfidf = tfidf_vectorizer.transform([new_message_cleaned])\n",
        "\n",
        "\n",
        "nb_pred = nb_model.predict(new_message_tfidf)\n",
        "\n",
        "# Print the prediction results\n",
        "\n",
        "print(f\"Naive Bayes Prediction: {nb_pred[0]}\")\n"
      ],
      "metadata": {
        "colab": {
          "base_uri": "https://localhost:8080/"
        },
        "id": "YbzgPVNY7orw",
        "outputId": "3e3cfc29-451e-4174-b1fc-246215717195"
      },
      "execution_count": 4,
      "outputs": [
        {
          "output_type": "stream",
          "name": "stdout",
          "text": [
            "Naive Bayes Prediction: spam\n"
          ]
        }
      ]
    },
    {
      "cell_type": "code",
      "source": [
        "\n",
        "# Example message for prediction\n",
        "new_message = [\"U dun say so early hor... U c already then say...,,,\"]\n",
        "\n",
        "# Apply the same preprocessing steps (tokenization, stopwords removal, lemmatization) to the new message\n",
        "\n",
        "# Tokenization\n",
        "new_message_tokens = word_tokenize(new_message[0].lower())\n",
        "\n",
        "# Remove stopwords and non-alphabetic words\n",
        "stop_words = set(stopwords.words('english'))\n",
        "new_message_filtered = [word for word in new_message_tokens if word.isalpha() and word not in stop_words]\n",
        "\n",
        "# Lemmatization\n",
        "lemmatizer = WordNetLemmatizer()\n",
        "new_message_lemmatized = [lemmatizer.lemmatize(word) for word in new_message_filtered]\n",
        "\n",
        "# Join lemmatized tokens to form clean text\n",
        "new_message_cleaned = ' '.join(new_message_lemmatized)\n",
        "\n",
        "# Transform the new message using the same vectorizer\n",
        "new_message_tfidf = tfidf_vectorizer.transform([new_message_cleaned])\n",
        "\n",
        "\n",
        "nb_pred = nb_model.predict(new_message_tfidf)\n",
        "\n",
        "\n",
        "print(f\"Naive Bayes Prediction: {nb_pred[0]}\")\n"
      ],
      "metadata": {
        "colab": {
          "base_uri": "https://localhost:8080/"
        },
        "id": "g5002LOy74ez",
        "outputId": "9197f1c6-cba5-4fa6-f099-4f314d024da4"
      },
      "execution_count": 5,
      "outputs": [
        {
          "output_type": "stream",
          "name": "stdout",
          "text": [
            "Naive Bayes Prediction: ham\n"
          ]
        }
      ]
    },
    {
      "cell_type": "markdown",
      "source": [
        "**Submission Guidelines:**\n",
        "\n",
        "**Google Colab Notebook Submission:**\n",
        "\n",
        "Save your notebook as NLP_Text_Classification_YourName.ipynb.\n",
        "\n",
        "Ensure all code cells are executed, and the output is visible.\n",
        "\n",
        "Include proper documentation and comments explaining each step.\n",
        "\n",
        "**Report Submission (Optional):**\n",
        "\n",
        "Prepare a short report (2-3 pages) summarizing your approach, findings, and model performance.\n",
        "\n",
        "Upload the report along with the Colab Notebook.\n",
        "\n"
      ],
      "metadata": {
        "id": "TDlDzi_jJvYj"
      }
    },
    {
      "cell_type": "markdown",
      "source": [
        "**Grading Criteria:**\n",
        "\n",
        "Correct implementation of NLP preprocessing (30%)\n",
        "\n",
        "Effective use of vectorization techniques (20%)\n",
        "\n",
        "Model accuracy and performance evaluation (30%)\n",
        "\n",
        "Code clarity, documentation, and presentation (20%)"
      ],
      "metadata": {
        "id": "4xnsvv56Nsth"
      }
    },
    {
      "cell_type": "code",
      "source": [],
      "metadata": {
        "id": "Wgh54EcmJmIm"
      },
      "execution_count": null,
      "outputs": []
    },
    {
      "cell_type": "markdown",
      "source": [
        "**Declaration**\n",
        "\n",
        "I, Shivanjali Jagtap confirm that the work submitted in this assignment is my own and has been completed following academic integrity guidelines. The code is uploaded on my GitHub repository account, and the repository link is provided below:\n",
        "\n",
        "GitHub Repository Link: [Insert GitHub Link]\n",
        "\n",
        "Signature: Shivanjali Jagtap"
      ],
      "metadata": {
        "id": "cox9wwws8QoT"
      }
    },
    {
      "cell_type": "markdown",
      "source": [
        "**Submission Checklist**\n",
        "\n",
        "✔ Ultralitycs Platform Documentsation Like hel file for Given Task\n",
        "\n",
        "✔ Code file (Python Notebook or Script)\n",
        "\n",
        "✔ Dataset or link to the dataset\n",
        "\n",
        "✔ Visualizations (if applicable)\n",
        "\n",
        "✔ Screenshots of model performance metrics\n",
        "\n",
        "✔ Readme File\n",
        "\n",
        "✔ Evaluation Metrics Details and discussion"
      ],
      "metadata": {
        "id": "xXk9pnhy8S2M"
      }
    }
  ]
}